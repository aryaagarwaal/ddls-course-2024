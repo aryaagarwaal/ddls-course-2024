{
  "nbformat": 4,
  "nbformat_minor": 0,
  "metadata": {
    "colab": {
      "provenance": [],
      "machine_shape": "hm",
      "gpuType": "T4",
      "include_colab_link": true
    },
    "kernelspec": {
      "name": "python3",
      "display_name": "Python 3"
    },
    "language_info": {
      "name": "python"
    },
    "accelerator": "GPU"
  },
  "cells": [
    {
      "cell_type": "markdown",
      "metadata": {
        "id": "view-in-github",
        "colab_type": "text"
      },
      "source": [
        "<a href=\"https://colab.research.google.com/github/aryaagarwaal/ddls-course-2024/blob/main/MelanomaPrimary%26MetastaticWSI.ipynb\" target=\"_parent\"><img src=\"https://colab.research.google.com/assets/colab-badge.svg\" alt=\"Open In Colab\"/></a>"
      ]
    },
    {
      "cell_type": "markdown",
      "source": [
        "# Metastatic and Primary Melanoma Tumor Identification Using Whole Slide Images (WSI)\n",
        "This project processes Whole Slide Images (WSI) of metastatic and primary melanoma tumor tissues to extract regions of interest (ROIs), train a Vision Transformer (ViT) model, and generate Grad-CAM visualizations to interpret model predictions.\n",
        "\n",
        "**Table of Contents**\n",
        "\n",
        "1. Installation\n",
        "2. Dataset Structure\n",
        "3. Processing WSIs\n",
        "4. Extracting Regions of Interest (ROIs)\n",
        "5. Loading and Splitting Data\n",
        "6. Training Vision Transformer (ViT) Model\n",
        "7. Model Evaluation and Visualization\n",
        "8. Grad-CAM Visualization\n",
        "\n",
        "\n",
        "\n",
        "\n"
      ],
      "metadata": {
        "id": "FP3O31gZKWsK"
      }
    },
    {
      "cell_type": "markdown",
      "source": [
        "**1. Installation**\n",
        "\n",
        "To run this project, you'll need the following Python packages installed:"
      ],
      "metadata": {
        "id": "hZjRtMbekrDz"
      }
    },
    {
      "cell_type": "code",
      "execution_count": null,
      "metadata": {
        "colab": {
          "base_uri": "https://localhost:8080/"
        },
        "id": "sEaj9PNpkqWf",
        "outputId": "7fbeffcd-cd43-4eae-e49a-b3632c6855c7",
        "collapsed": true
      },
      "outputs": [
        {
          "output_type": "stream",
          "name": "stdout",
          "text": [
            "Collecting openslide-python\n",
            "  Downloading openslide-python-1.3.1.tar.gz (358 kB)\n",
            "\u001b[?25l     \u001b[90m━━━━━━━━━━━━━━━━━━━━━━━━━━━━━━━━━━━━━━━━\u001b[0m \u001b[32m0.0/359.0 kB\u001b[0m \u001b[31m?\u001b[0m eta \u001b[36m-:--:--\u001b[0m\r\u001b[2K     \u001b[91m━━━━━━━━━━━━━━━\u001b[0m\u001b[91m╸\u001b[0m\u001b[90m━━━━━━━━━━━━━━━━━━━━━━━━\u001b[0m \u001b[32m143.4/359.0 kB\u001b[0m \u001b[31m4.4 MB/s\u001b[0m eta \u001b[36m0:00:01\u001b[0m\r\u001b[2K     \u001b[90m━━━━━━━━━━━━━━━━━━━━━━━━━━━━━━━━━━━━━━━━\u001b[0m \u001b[32m359.0/359.0 kB\u001b[0m \u001b[31m6.0 MB/s\u001b[0m eta \u001b[36m0:00:00\u001b[0m\n",
            "\u001b[?25h  Preparing metadata (setup.py) ... \u001b[?25l\u001b[?25hdone\n",
            "Requirement already satisfied: Pillow in /usr/local/lib/python3.10/dist-packages (from openslide-python) (10.4.0)\n",
            "Building wheels for collected packages: openslide-python\n",
            "  Building wheel for openslide-python (setup.py) ... \u001b[?25l\u001b[?25hdone\n",
            "  Created wheel for openslide-python: filename=openslide_python-1.3.1-cp310-cp310-linux_x86_64.whl size=33548 sha256=084310b64ba7afd2a7875b8067244486096408c5932de51f6cabf3cab5f7a84e\n",
            "  Stored in directory: /root/.cache/pip/wheels/79/79/fa/29a0087493c69dff7fd0b70fab5d6771002a531010161d2d97\n",
            "Successfully built openslide-python\n",
            "Installing collected packages: openslide-python\n",
            "Successfully installed openslide-python-1.3.1\n",
            "Reading package lists... Done\n",
            "Building dependency tree... Done\n",
            "Reading state information... Done\n",
            "The following additional packages will be installed:\n",
            "  libopenslide0\n",
            "Suggested packages:\n",
            "  libtiff-tools\n",
            "The following NEW packages will be installed:\n",
            "  libopenslide0 openslide-tools\n",
            "0 upgraded, 2 newly installed, 0 to remove and 49 not upgraded.\n",
            "Need to get 104 kB of archives.\n",
            "After this operation, 297 kB of additional disk space will be used.\n",
            "Get:1 http://archive.ubuntu.com/ubuntu jammy/universe amd64 libopenslide0 amd64 3.4.1+dfsg-5build1 [89.8 kB]\n",
            "Get:2 http://archive.ubuntu.com/ubuntu jammy/universe amd64 openslide-tools amd64 3.4.1+dfsg-5build1 [13.8 kB]\n",
            "Fetched 104 kB in 2s (68.5 kB/s)\n",
            "Selecting previously unselected package libopenslide0.\n",
            "(Reading database ... 123622 files and directories currently installed.)\n",
            "Preparing to unpack .../libopenslide0_3.4.1+dfsg-5build1_amd64.deb ...\n",
            "Unpacking libopenslide0 (3.4.1+dfsg-5build1) ...\n",
            "Selecting previously unselected package openslide-tools.\n",
            "Preparing to unpack .../openslide-tools_3.4.1+dfsg-5build1_amd64.deb ...\n",
            "Unpacking openslide-tools (3.4.1+dfsg-5build1) ...\n",
            "Setting up libopenslide0 (3.4.1+dfsg-5build1) ...\n",
            "Setting up openslide-tools (3.4.1+dfsg-5build1) ...\n",
            "Processing triggers for man-db (2.10.2-1) ...\n",
            "Processing triggers for libc-bin (2.35-0ubuntu3.4) ...\n",
            "/sbin/ldconfig.real: /usr/local/lib/libtbbmalloc_proxy.so.2 is not a symbolic link\n",
            "\n",
            "/sbin/ldconfig.real: /usr/local/lib/libtbbbind.so.3 is not a symbolic link\n",
            "\n",
            "/sbin/ldconfig.real: /usr/local/lib/libtbbbind_2_5.so.3 is not a symbolic link\n",
            "\n",
            "/sbin/ldconfig.real: /usr/local/lib/libtbb.so.12 is not a symbolic link\n",
            "\n",
            "/sbin/ldconfig.real: /usr/local/lib/libtbbbind_2_0.so.3 is not a symbolic link\n",
            "\n",
            "/sbin/ldconfig.real: /usr/local/lib/libur_adapter_level_zero.so.0 is not a symbolic link\n",
            "\n",
            "/sbin/ldconfig.real: /usr/local/lib/libur_loader.so.0 is not a symbolic link\n",
            "\n",
            "/sbin/ldconfig.real: /usr/local/lib/libtbbmalloc.so.2 is not a symbolic link\n",
            "\n",
            "/sbin/ldconfig.real: /usr/local/lib/libur_adapter_opencl.so.0 is not a symbolic link\n",
            "\n",
            "Requirement already satisfied: Pillow in /usr/local/lib/python3.10/dist-packages (10.4.0)\n"
          ]
        }
      ],
      "source": [
        "!pip install openslide-python\n",
        "!apt-get install openslide-tools\n",
        "!pip install Pillow\n"
      ]
    },
    {
      "cell_type": "markdown",
      "source": [
        "Mount your Google Drive whiel using Google Colab:"
      ],
      "metadata": {
        "id": "YnZTkjUWLgux"
      }
    },
    {
      "cell_type": "code",
      "source": [
        "from google.colab import drive\n",
        "drive.mount('/content/drive')"
      ],
      "metadata": {
        "colab": {
          "base_uri": "https://localhost:8080/"
        },
        "id": "WGTBc0gMHjcK",
        "outputId": "4d290b5f-8c44-4910-d5de-6a9586a2be5d"
      },
      "execution_count": null,
      "outputs": [
        {
          "output_type": "stream",
          "name": "stdout",
          "text": [
            "Mounted at /content/drive\n"
          ]
        }
      ]
    },
    {
      "cell_type": "markdown",
      "source": [
        "**2. Import Required Libraries**\n",
        "\n",
        "Libraries for image processing, machine learning, and file management are imported."
      ],
      "metadata": {
        "id": "jLA8N0OmP-8E"
      }
    },
    {
      "cell_type": "code",
      "source": [
        "import os\n",
        "import openslide\n",
        "import random\n",
        "import tensorflow as tf\n",
        "from tensorflow.keras import layers, models\n",
        "import numpy as np\n",
        "from sklearn.model_selection import train_test_split\n",
        "from tensorflow.keras.preprocessing.image import img_to_array, load_img\n",
        "from PIL import Image\n",
        "Image.MAX_IMAGE_PIXELS = None  # Disable the limit completely\n",
        "import cv2\n",
        "from skimage import measure\n",
        "import tensorflow.keras.backend as K\n",
        "from skimage.measure import label, regionprops\n",
        "import matplotlib.pyplot as plt\n"
      ],
      "metadata": {
        "id": "sKz_jH_yrD_Q"
      },
      "execution_count": null,
      "outputs": []
    },
    {
      "cell_type": "markdown",
      "source": [
        "**3. Path Specifications**\n",
        "\n",
        "Set paths for folders containing primary and metastatic WSI files and for saving output images and extracted ROIs."
      ],
      "metadata": {
        "id": "ZLMOvQk8PhOq"
      }
    },
    {
      "cell_type": "code",
      "source": [
        "#Path specification for Primary WSI\n",
        "primary_folder = '/content/drive/MyDrive/Arya_Data/Primary TCGA-SKCM'\n",
        "\n",
        "# Output folder where downsampled .svs files or regions of interest (ROI) will be saved\n",
        "output_folder = '/content/drive/My Drive/Arya_Data/output_downsampled/primary'\n",
        "\n",
        "# Create output folder if it doesn't exist\n",
        "if not os.path.exists(output_folder):\n",
        "   os.makedirs(output_folder)\n",
        "\n",
        "#Path specification for Metastatic WSI\n",
        "metastatic_folder = '/content/drive/MyDrive/Arya_Data/Metastatic TCGA-SKCM'\n",
        "output_folder = '/content/drive/My Drive/Arya_Data/output_downsampled/metastatic'\n",
        "\n",
        "# Create output folder if it doesn't exist\n",
        "if not os.path.exists(output_folder):\n",
        "   os.makedirs(output_folder)\n"
      ],
      "metadata": {
        "id": "AmG5jsbDP4Fs"
      },
      "execution_count": null,
      "outputs": []
    },
    {
      "cell_type": "markdown",
      "source": [
        "**4. Process and Downsample WSI Files**\n",
        "\n",
        "The process_svs_file function processes WSI files by downsampling them to a lower resolution to reduce memory usage. The processed images are saved in the specified folder.\n",
        "\n"
      ],
      "metadata": {
        "id": "Dz4jQ7AwPm_p"
      }
    },
    {
      "cell_type": "code",
      "source": [
        "def process_svs_file(svs_folder, output_folder, level=1):\n",
        "    # Loop through all .svs files in the folder\n",
        "    for file_name in os.listdir(svs_folder):\n",
        "        if file_name.endswith('.svs'):\n",
        "            svs_path = os.path.join(svs_folder, file_name)\n",
        "\n",
        "            # Open the .svs file\n",
        "            slide = openslide.OpenSlide(svs_path)\n",
        "\n",
        "            # Choose a lower resolution level (e.g., level 1 or 2) to reduce memory usage\n",
        "            level_dimensions = slide.level_dimensions[level]\n",
        "            print(f\"Processing {file_name} at level {level} with dimensions {level_dimensions}\")\n",
        "\n",
        "            # Read a lower resolution of the entire slide\n",
        "            img = slide.read_region((0, 0), level, level_dimensions)\n",
        "\n",
        "            # Save the downsampled image (optional - only save as .svs or PIL Image)\n",
        "            output_path = os.path.join(output_folder, file_name.replace('.svs', '.png'))\n",
        "            img.save(output_path)\n",
        "            print(f\"Processed {file_name} and saved downsampled version to {output_path}\")\n",
        "\n",
        "# Process .svs files from both folders at a lower resolution (level 1)\n",
        "process_svs_file(primary_folder, output_folder, level=1)\n",
        "process_svs_file(metastatic_folder, output_folder, level=1)\n"
      ],
      "metadata": {
        "id": "e1BQ3Up6nHrY"
      },
      "execution_count": null,
      "outputs": []
    },
    {
      "cell_type": "markdown",
      "source": [
        "**5. ROI Extraction and Color Segmentation**\n",
        "\n",
        "The extract_and_save_rois function extracts regions of interest (ROIs) based on color segmentation (purple/red regions) using OpenCV and Scikit-Image. The extracted ROIs are resized to 224x224 pixels and saved as .png files."
      ],
      "metadata": {
        "id": "4y6DqcR0O-BC"
      }
    },
    {
      "cell_type": "code",
      "source": [
        "# Paths to folders\n",
        "primary_folder = '/content/drive/MyDrive/Arya_Data/output_downsampled/primary'\n",
        "metastatic_folder = '/content/drive/MyDrive/Arya_Data/output_downsampled/metastatic'\n",
        "\n",
        "# Create output directories for saving ROIs\n",
        "primary_save_folder = '/content/drive/MyDrive/Arya_Data/output_downsampled/primary_rois'\n",
        "metastatic_save_folder = '/content/drive/MyDrive/Arya_Data/output_downsampled/metastatic_rois'\n",
        "os.makedirs(primary_save_folder, exist_ok=True)\n",
        "os.makedirs(metastatic_save_folder, exist_ok=True)\n",
        "\n",
        "# Function to extract ROIs and save them\n",
        "def extract_and_save_rois(image, save_folder, base_filename):\n",
        "    # Convert image to HSV color space for better color segmentation\n",
        "    hsv = cv2.cvtColor(image, cv2.COLOR_RGB2HSV)\n",
        "\n",
        "    # Define the HSV color bounds for purple and red tissue regions\n",
        "    lower_bound = np.array([110, 50, 50])  # Lower bound for purple/red\n",
        "    upper_bound = np.array([180, 255, 255])  # Upper bound\n",
        "\n",
        "    # Create a mask to isolate the tissue\n",
        "    mask = cv2.inRange(hsv, lower_bound, upper_bound)\n",
        "\n",
        "    # Remove small noise with morphological operations\n",
        "    kernel = np.ones((5, 5), np.uint8)\n",
        "    mask_cleaned = cv2.morphologyEx(mask, cv2.MORPH_CLOSE, kernel)\n",
        "\n",
        "    # Label connected components\n",
        "    labels = label(mask_cleaned)\n",
        "    regions = regionprops(labels)\n",
        "\n",
        "    # Loop over each connected component and save the ROI\n",
        "    roi_count = 0\n",
        "    for region in measure.regionprops(labels):\n",
        "        if region.area >= 500:  # Filter out small regions that may be noise\n",
        "            min_row, min_col, max_row, max_col = region.bbox\n",
        "            roi = image[min_row:max_row, min_col:max_col]\n",
        "\n",
        "            # Resize the ROI to 224x224 for model input\n",
        "            resized_roi = cv2.resize(roi, (224, 224))\n",
        "\n",
        "            # Construct the save path for the ROI\n",
        "            roi_filename = f\"{base_filename}_roi_{roi_count}.png\"\n",
        "            save_path = os.path.join(save_folder, roi_filename)\n",
        "\n",
        "            # Save the extracted ROI as a .png file\n",
        "            cv2.imwrite(save_path, resized_roi)\n",
        "\n",
        "            roi_count += 1\n",
        "\n",
        "    print(f\"Extracted {roi_count} ROIs from {base_filename}.\")\n",
        "\n",
        "# Function to load images from a folder, extract and save ROIs\n",
        "def process_folder(folder, save_folder, label):\n",
        "    for file_name in os.listdir(folder):\n",
        "        file_path = os.path.join(folder, file_name)\n",
        "        if file_name.endswith('.png'):\n",
        "            img = cv2.imread(file_path)\n",
        "            base_filename = os.path.splitext(file_name)[0]  # Remove file extension for naming\n",
        "            extract_and_save_rois(img, save_folder, base_filename)\n",
        "\n",
        "# Process and save ROIs for both primary and metastatic tumor images\n",
        "process_folder(primary_folder, primary_save_folder, 0)\n",
        "print(\"Primary ROIs saved.\")\n",
        "process_folder(metastatic_folder, metastatic_save_folder, 1)\n",
        "print(\"Metastatic ROIs saved.\")\n",
        "\n"
      ],
      "metadata": {
        "id": "oD1opgMv8Q_o",
        "collapsed": true
      },
      "execution_count": null,
      "outputs": []
    },
    {
      "cell_type": "markdown",
      "source": [
        "**6. Load and Split Data**\n",
        "\n",
        "After extracting ROIs, the data is loaded, shuffled, and split into an 80-20 train-test split.\n",
        "\n"
      ],
      "metadata": {
        "id": "LBRFS1b6PG8T"
      }
    },
    {
      "cell_type": "code",
      "source": [
        "def load_data_from_folder(folder, label):\n",
        "    data = []\n",
        "    for file_name in os.listdir(folder):\n",
        "        file_path = os.path.join(folder, file_name)\n",
        "        if file_name.endswith('.png'):\n",
        "            img = cv2.imread(file_path)\n",
        "            img_array = cv2.resize(img, (224, 224))  # Ensure size is correct\n",
        "            data.append((img_array, label))\n",
        "    return data\n",
        "\n",
        "# Load data for both primary and metastatic\n",
        "primary_data = load_data_from_folder(primary_save_folder, 0)\n",
        "metastatic_data = load_data_from_folder(metastatic_save_folder, 1)\n",
        "\n",
        "# Combine and shuffle the data\n",
        "all_data = primary_data + metastatic_data\n",
        "random.shuffle(all_data)\n",
        "\n",
        "# Split data into images and labels\n",
        "images, labels = zip(*all_data)\n",
        "# Split into 80% train and 20% test\n",
        "X_train, X_test, y_train, y_test = train_test_split(images, labels, test_size=0.2, random_state=42)"
      ],
      "metadata": {
        "id": "Dt61kWvrPB7Q"
      },
      "execution_count": null,
      "outputs": []
    },
    {
      "cell_type": "markdown",
      "source": [
        "**7. Save Data**\n",
        "\n",
        "The training and testing datasets are saved as .npy and .npz files for later use."
      ],
      "metadata": {
        "id": "q2KjDjBWO0mk"
      }
    },
    {
      "cell_type": "code",
      "source": [
        "# Convert the images and labels to NumPy arrays\n",
        "X_train_np = np.array(X_train)\n",
        "y_train_np = np.array(y_train)\n",
        "X_test_np = np.array(X_test)\n",
        "y_test_np = np.array(y_test)\n",
        "\n",
        "# Save the data using NumPy as individual files\n",
        "np.save('X_train.npy', X_train_np)\n",
        "np.save('y_train.npy', y_train_np)\n",
        "np.save('X_test.npy', X_test_np)\n",
        "np.save('y_test.npy', y_test_np)\n",
        "\n",
        "# Optionally, save everything in a compressed .npz file\n",
        "np.savez_compressed('tumor_data.npz', X_train=X_train_np, y_train=y_train_np, X_test=X_test_np, y_test=y_test_np)\n",
        "\n",
        "print(\"Data has been saved successfully!\")"
      ],
      "metadata": {
        "colab": {
          "base_uri": "https://localhost:8080/"
        },
        "id": "3EAAV44AjD7X",
        "outputId": "dac338ee-9213-4102-82f3-8f6c49a69c13"
      },
      "execution_count": null,
      "outputs": [
        {
          "output_type": "stream",
          "name": "stdout",
          "text": [
            "Data has been saved successfully!\n"
          ]
        }
      ]
    },
    {
      "cell_type": "markdown",
      "source": [
        "**8. Vision Transformer (ViT) Model Creation**\n",
        "\n",
        "The Vision Transformer model is built using TensorFlow and Keras. It processes the 224x224 images and performs classification into primary or metastatic tumor classes.\n",
        "\n",
        "The model is compiled and trained on the dataset using 25 epochs."
      ],
      "metadata": {
        "id": "CEZc_h61OPxu"
      }
    },
    {
      "cell_type": "code",
      "source": [
        "# Load the saved .npy files\n",
        "X_train = np.load('X_train.npy')\n",
        "y_train = np.load('y_train.npy')\n",
        "X_test = np.load('X_test.npy')\n",
        "y_test = np.load('y_test.npy')\n",
        "\n",
        "# Create TensorFlow datasets from NumPy arrays\n",
        "train_dataset = tf.data.Dataset.from_tensor_slices((X_train, y_train)).shuffle(1024).batch(32).prefetch(tf.data.experimental.AUTOTUNE)\n",
        "test_dataset = tf.data.Dataset.from_tensor_slices((X_test, y_test)).batch(32).prefetch(tf.data.experimental.AUTOTUNE)\n",
        "\n",
        "# Vision Transformer (ViT) model\n",
        "def create_vit_model(input_shape=(224, 224, 3), num_classes=2):\n",
        "    inputs = layers.Input(shape=input_shape)\n",
        "\n",
        "    # Patch extraction\n",
        "    patches = layers.Conv2D(768, kernel_size=(16, 16), strides=(16, 16))(inputs)\n",
        "\n",
        "    # Flatten patches\n",
        "    flat_patches = layers.Reshape((-1, 768))(patches)\n",
        "\n",
        "    # Add spatial attention (optional)\n",
        "    attention = layers.MultiHeadAttention(num_heads=8, key_dim=768)(flat_patches, flat_patches)\n",
        "\n",
        "    # Transformer encoder layers\n",
        "    x = layers.LayerNormalization()(attention)\n",
        "    x = layers.Dense(2048, activation='relu')(x)\n",
        "    x = layers.Dense(768)(x)\n",
        "\n",
        "    # Final classification\n",
        "    x = layers.GlobalAveragePooling1D()(x)\n",
        "    x = layers.Dense(512, activation='relu')(x)\n",
        "    outputs = layers.Dense(num_classes, activation='softmax')(x)\n",
        "\n",
        "    model = models.Model(inputs=inputs, outputs=outputs)\n",
        "    return model\n",
        "\n",
        "# Create TensorFlow datasets from NumPy arrays\n",
        "train_dataset = tf.data.Dataset.from_tensor_slices((X_train, y_train)).shuffle(1024).batch(32).prefetch(tf.data.experimental.AUTOTUNE)\n",
        "test_dataset = tf.data.Dataset.from_tensor_slices((X_test, y_test)).batch(32).prefetch(tf.data.experimental.AUTOTUNE)\n",
        "\n",
        "# Compile and train the model\n",
        "vit_model = create_vit_model()\n",
        "vit_model.compile(optimizer='adam', loss='sparse_categorical_crossentropy', metrics=['accuracy'])\n",
        "\n",
        "# Train the model using TensorFlow datasets\n",
        "history = vit_model.fit(\n",
        "    train_dataset,\n",
        "    validation_data=test_dataset,\n",
        "    epochs=25\n",
        ")\n"
      ],
      "metadata": {
        "colab": {
          "base_uri": "https://localhost:8080/"
        },
        "collapsed": true,
        "id": "RxFdL9qYgdaq",
        "outputId": "5b46e3f6-70dc-48cc-d4d3-fa67868ea6ca"
      },
      "execution_count": null,
      "outputs": [
        {
          "output_type": "stream",
          "name": "stdout",
          "text": [
            "Epoch 1/25\n",
            "\u001b[1m718/718\u001b[0m \u001b[32m━━━━━━━━━━━━━━━━━━━━\u001b[0m\u001b[37m\u001b[0m \u001b[1m209s\u001b[0m 268ms/step - accuracy: 0.5294 - loss: 0.8857 - val_accuracy: 0.5349 - val_loss: 0.6907\n",
            "Epoch 2/25\n",
            "\u001b[1m718/718\u001b[0m \u001b[32m━━━━━━━━━━━━━━━━━━━━\u001b[0m\u001b[37m\u001b[0m \u001b[1m185s\u001b[0m 258ms/step - accuracy: 0.5358 - loss: 0.6912 - val_accuracy: 0.5349 - val_loss: 0.6907\n",
            "Epoch 3/25\n",
            "\u001b[1m718/718\u001b[0m \u001b[32m━━━━━━━━━━━━━━━━━━━━\u001b[0m\u001b[37m\u001b[0m \u001b[1m185s\u001b[0m 258ms/step - accuracy: 0.5407 - loss: 0.6903 - val_accuracy: 0.5349 - val_loss: 0.6909\n",
            "Epoch 4/25\n",
            "\u001b[1m718/718\u001b[0m \u001b[32m━━━━━━━━━━━━━━━━━━━━\u001b[0m\u001b[37m\u001b[0m \u001b[1m185s\u001b[0m 258ms/step - accuracy: 0.5359 - loss: 0.6907 - val_accuracy: 0.5349 - val_loss: 0.6908\n",
            "Epoch 5/25\n",
            "\u001b[1m718/718\u001b[0m \u001b[32m━━━━━━━━━━━━━━━━━━━━\u001b[0m\u001b[37m\u001b[0m \u001b[1m185s\u001b[0m 258ms/step - accuracy: 0.5381 - loss: 0.6906 - val_accuracy: 0.5349 - val_loss: 0.6907\n",
            "Epoch 6/25\n",
            "\u001b[1m718/718\u001b[0m \u001b[32m━━━━━━━━━━━━━━━━━━━━\u001b[0m\u001b[37m\u001b[0m \u001b[1m185s\u001b[0m 258ms/step - accuracy: 0.5393 - loss: 0.6904 - val_accuracy: 0.5349 - val_loss: 0.6908\n",
            "Epoch 7/25\n",
            "\u001b[1m718/718\u001b[0m \u001b[32m━━━━━━━━━━━━━━━━━━━━\u001b[0m\u001b[37m\u001b[0m \u001b[1m185s\u001b[0m 258ms/step - accuracy: 0.5371 - loss: 0.6905 - val_accuracy: 0.5349 - val_loss: 0.6907\n",
            "Epoch 8/25\n",
            "\u001b[1m718/718\u001b[0m \u001b[32m━━━━━━━━━━━━━━━━━━━━\u001b[0m\u001b[37m\u001b[0m \u001b[1m185s\u001b[0m 258ms/step - accuracy: 0.5384 - loss: 0.6904 - val_accuracy: 0.5349 - val_loss: 0.6907\n",
            "Epoch 9/25\n",
            "\u001b[1m718/718\u001b[0m \u001b[32m━━━━━━━━━━━━━━━━━━━━\u001b[0m\u001b[37m\u001b[0m \u001b[1m185s\u001b[0m 258ms/step - accuracy: 0.5388 - loss: 0.6903 - val_accuracy: 0.5349 - val_loss: 0.6907\n",
            "Epoch 10/25\n",
            "\u001b[1m718/718\u001b[0m \u001b[32m━━━━━━━━━━━━━━━━━━━━\u001b[0m\u001b[37m\u001b[0m \u001b[1m185s\u001b[0m 258ms/step - accuracy: 0.5382 - loss: 0.6904 - val_accuracy: 0.5349 - val_loss: 0.6908\n",
            "Epoch 11/25\n",
            "\u001b[1m718/718\u001b[0m \u001b[32m━━━━━━━━━━━━━━━━━━━━\u001b[0m\u001b[37m\u001b[0m \u001b[1m185s\u001b[0m 258ms/step - accuracy: 0.5380 - loss: 0.6904 - val_accuracy: 0.5349 - val_loss: 0.6908\n",
            "Epoch 12/25\n",
            "\u001b[1m718/718\u001b[0m \u001b[32m━━━━━━━━━━━━━━━━━━━━\u001b[0m\u001b[37m\u001b[0m \u001b[1m185s\u001b[0m 258ms/step - accuracy: 0.5399 - loss: 0.6902 - val_accuracy: 0.5349 - val_loss: 0.6908\n",
            "Epoch 13/25\n",
            "\u001b[1m718/718\u001b[0m \u001b[32m━━━━━━━━━━━━━━━━━━━━\u001b[0m\u001b[37m\u001b[0m \u001b[1m185s\u001b[0m 258ms/step - accuracy: 0.5373 - loss: 0.6904 - val_accuracy: 0.5349 - val_loss: 0.6907\n",
            "Epoch 14/25\n",
            "\u001b[1m718/718\u001b[0m \u001b[32m━━━━━━━━━━━━━━━━━━━━\u001b[0m\u001b[37m\u001b[0m \u001b[1m185s\u001b[0m 258ms/step - accuracy: 0.5390 - loss: 0.6902 - val_accuracy: 0.5349 - val_loss: 0.6907\n",
            "Epoch 15/25\n",
            "\u001b[1m718/718\u001b[0m \u001b[32m━━━━━━━━━━━━━━━━━━━━\u001b[0m\u001b[37m\u001b[0m \u001b[1m185s\u001b[0m 258ms/step - accuracy: 0.5386 - loss: 0.6903 - val_accuracy: 0.5349 - val_loss: 0.6907\n",
            "Epoch 16/25\n",
            "\u001b[1m718/718\u001b[0m \u001b[32m━━━━━━━━━━━━━━━━━━━━\u001b[0m\u001b[37m\u001b[0m \u001b[1m185s\u001b[0m 258ms/step - accuracy: 0.5390 - loss: 0.6901 - val_accuracy: 0.5349 - val_loss: 0.6907\n",
            "Epoch 17/25\n",
            "\u001b[1m718/718\u001b[0m \u001b[32m━━━━━━━━━━━━━━━━━━━━\u001b[0m\u001b[37m\u001b[0m \u001b[1m185s\u001b[0m 258ms/step - accuracy: 0.5381 - loss: 0.6903 - val_accuracy: 0.5349 - val_loss: 0.6907\n",
            "Epoch 18/25\n",
            "\u001b[1m718/718\u001b[0m \u001b[32m━━━━━━━━━━━━━━━━━━━━\u001b[0m\u001b[37m\u001b[0m \u001b[1m185s\u001b[0m 258ms/step - accuracy: 0.5379 - loss: 0.6903 - val_accuracy: 0.5349 - val_loss: 0.6907\n",
            "Epoch 19/25\n",
            "\u001b[1m718/718\u001b[0m \u001b[32m━━━━━━━━━━━━━━━━━━━━\u001b[0m\u001b[37m\u001b[0m \u001b[1m185s\u001b[0m 258ms/step - accuracy: 0.5401 - loss: 0.6900 - val_accuracy: 0.5349 - val_loss: 0.6907\n",
            "Epoch 20/25\n",
            "\u001b[1m718/718\u001b[0m \u001b[32m━━━━━━━━━━━━━━━━━━━━\u001b[0m\u001b[37m\u001b[0m \u001b[1m185s\u001b[0m 258ms/step - accuracy: 0.5381 - loss: 0.6903 - val_accuracy: 0.5349 - val_loss: 0.6907\n",
            "Epoch 21/25\n",
            "\u001b[1m718/718\u001b[0m \u001b[32m━━━━━━━━━━━━━━━━━━━━\u001b[0m\u001b[37m\u001b[0m \u001b[1m185s\u001b[0m 258ms/step - accuracy: 0.5393 - loss: 0.6901 - val_accuracy: 0.5349 - val_loss: 0.6907\n",
            "Epoch 22/25\n",
            "\u001b[1m718/718\u001b[0m \u001b[32m━━━━━━━━━━━━━━━━━━━━\u001b[0m\u001b[37m\u001b[0m \u001b[1m185s\u001b[0m 258ms/step - accuracy: 0.5383 - loss: 0.6902 - val_accuracy: 0.5349 - val_loss: 0.6907\n",
            "Epoch 23/25\n",
            "\u001b[1m718/718\u001b[0m \u001b[32m━━━━━━━━━━━━━━━━━━━━\u001b[0m\u001b[37m\u001b[0m \u001b[1m185s\u001b[0m 258ms/step - accuracy: 0.5387 - loss: 0.6902 - val_accuracy: 0.5349 - val_loss: 0.6907\n",
            "Epoch 24/25\n",
            "\u001b[1m718/718\u001b[0m \u001b[32m━━━━━━━━━━━━━━━━━━━━\u001b[0m\u001b[37m\u001b[0m \u001b[1m185s\u001b[0m 257ms/step - accuracy: 0.5385 - loss: 0.6902 - val_accuracy: 0.5349 - val_loss: 0.6907\n",
            "Epoch 25/25\n",
            "\u001b[1m718/718\u001b[0m \u001b[32m━━━━━━━━━━━━━━━━━━━━\u001b[0m\u001b[37m\u001b[0m \u001b[1m185s\u001b[0m 257ms/step - accuracy: 0.5377 - loss: 0.6903 - val_accuracy: 0.5349 - val_loss: 0.6907\n"
          ]
        }
      ]
    },
    {
      "cell_type": "markdown",
      "source": [
        "**9. Evaluation and Metrics**\n",
        "\n",
        "The model's predictions are evaluated using accuracy, precision, recall, and confusion matrix."
      ],
      "metadata": {
        "id": "Nfw3J7m2OFIN"
      }
    },
    {
      "cell_type": "code",
      "source": [
        "# Predictions on the test set\n",
        "y_pred = vit_model.predict(X_test)\n",
        "y_pred_labels = np.argmax(y_pred, axis=1)\n",
        "\n",
        "# Calculate accuracy, precision, recall\n",
        "accuracy = accuracy_score(y_test, y_pred_labels)\n",
        "precision = precision_score(y_test, y_pred_labels)\n",
        "recall = recall_score(y_test, y_pred_labels)\n",
        "\n",
        "# Confusion matrix\n",
        "conf_matrix = confusion_matrix(y_test, y_pred_labels)\n",
        "sns.heatmap(conf_matrix, annot=True, fmt=\"d\", cmap='Blues')\n",
        "plt.title(\"Confusion Matrix\")\n",
        "plt.show()\n",
        "\n",
        "print(f\"Accuracy: {accuracy:.2f}, Precision: {precision:.2f}, Recall: {recall:.2f}\")\n"
      ],
      "metadata": {
        "id": "KGC1V4kXS_XH",
        "colab": {
          "base_uri": "https://localhost:8080/",
          "height": 487
        },
        "collapsed": true,
        "outputId": "102b54ab-1de4-4ed7-db05-3e82764d0134"
      },
      "execution_count": null,
      "outputs": [
        {
          "output_type": "stream",
          "name": "stdout",
          "text": [
            "\u001b[1m180/180\u001b[0m \u001b[32m━━━━━━━━━━━━━━━━━━━━\u001b[0m\u001b[37m\u001b[0m \u001b[1m16s\u001b[0m 88ms/step\n"
          ]
        },
        {
          "output_type": "display_data",
          "data": {
            "text/plain": [
              "<Figure size 640x480 with 2 Axes>"
            ],
            "image/png": "[encoded data removed]"
          },
          "metadata": {}
        },
        {
          "output_type": "stream",
          "name": "stdout",
          "text": [
            "Accuracy: 0.53, Precision: 0.53, Recall: 1.00\n"
          ]
        }
      ]
    },
    {
      "cell_type": "markdown",
      "source": [
        "**10. Grad-CAM Visualization**\n",
        "\n",
        "The Grad-CAM technique is used to visualize the regions of the image that the ViT model focuses on for classification.\n",
        "\n"
      ],
      "metadata": {
        "id": "VFDXl-HjN8qD"
      }
    },
    {
      "cell_type": "code",
      "source": [
        "# Grad-CAM function with dynamic handling of dimensions and shape logging\n",
        "def grad_cam_debug(model, img, layer_name):\n",
        "    grad_model = models.Model([model.inputs], [model.get_layer(layer_name).output, model.output])\n",
        "\n",
        "    with tf.GradientTape() as tape:\n",
        "        conv_outputs, predictions = grad_model(np.array([img]))\n",
        "        loss = predictions[:, 1]  # Class of interest (e.g., metastatic)\n",
        "\n",
        "    # Get gradients of the loss with respect to the output feature map\n",
        "    grads = tape.gradient(loss, conv_outputs)[0]\n",
        "    conv_output_dims = len(conv_outputs.shape)\n",
        "\n",
        "    # Handle different output dimensions\n",
        "    if conv_output_dims == 4:\n",
        "        pooled_grads = K.mean(grads, axis=(0, 1, 2))\n",
        "        conv_outputs = conv_outputs[0]\n",
        "        for i in range(conv_outputs.shape[-1]):\n",
        "            conv_outputs[:, :, i] *= pooled_grads[i]\n",
        "    elif conv_output_dims == 3:\n",
        "        pooled_grads = K.mean(grads, axis=(0, 1))\n",
        "        conv_outputs = conv_outputs[0]\n",
        "        conv_outputs *= pooled_grads\n",
        "    elif conv_output_dims == 2:\n",
        "        pooled_grads = K.mean(grads, axis=0)\n",
        "        conv_outputs = conv_outputs[0]\n",
        "        conv_outputs *= pooled_grads\n",
        "\n",
        "    # Compute heatmap and ensure it's normalized properly\n",
        "    if conv_output_dims == 4 or conv_output_dims == 3:\n",
        "        heatmap = np.mean(conv_outputs, axis=-1)\n",
        "    else:\n",
        "        heatmap = conv_outputs\n",
        "\n",
        "    # Print heatmap for debugging\n",
        "    print(f\"Heatmap values: {heatmap}\")\n",
        "\n",
        "    heatmap = np.maximum(heatmap, 0)  # ReLU to retain only positive gradients\n",
        "    heatmap = np.nan_to_num(heatmap)  # Avoid NaN values\n",
        "    if np.max(heatmap) > 0:\n",
        "        heatmap /= np.max(heatmap)  # Normalize heatmap\n",
        "\n",
        "    return heatmap\n",
        "\n",
        "# Generate the heatmap for a test image\n",
        "layer_name = 'multi_head_attention_1'\n",
        "heatmap = grad_cam_debug(vit_model, X_test[0], layer_name)\n",
        "\n",
        "# Superimpose heatmap on original image\n",
        "img = X_test[0]\n",
        "heatmap = cv2.resize(heatmap, (img.shape[1], img.shape[0]))\n",
        "heatmap = np.uint8(255 * heatmap)\n",
        "heatmap = cv2.applyColorMap(heatmap, cv2.COLORMAP_JET)\n",
        "\n",
        "superimposed_img = heatmap * 0.4 + img\n",
        "plt.imshow(superimposed_img)\n",
        "plt.title('Grad-CAM Visualization')\n",
        "plt.show()"
      ],
      "metadata": {
        "id": "AX6AnzuFTAu_",
        "colab": {
          "base_uri": "https://localhost:8080/",
          "height": 646
        },
        "collapsed": true,
        "outputId": "35db5a5b-acbe-44ae-994a-8c4f339378ac"
      },
      "execution_count": null,
      "outputs": [
        {
          "output_type": "stream",
          "name": "stderr",
          "text": [
            "WARNING:matplotlib.image:Clipping input data to the valid range for imshow with RGB data ([0..1] for floats or [0..255] for integers).\n"
          ]
        },
        {
          "output_type": "stream",
          "name": "stdout",
          "text": [
            "Heatmap values: [0. 0. 0. 0. 0. 0. 0. 0. 0. 0. 0. 0. 0. 0. 0. 0. 0. 0. 0. 0. 0. 0. 0. 0.\n",
            " 0. 0. 0. 0. 0. 0. 0. 0. 0. 0. 0. 0. 0. 0. 0. 0. 0. 0. 0. 0. 0. 0. 0. 0.\n",
            " 0. 0. 0. 0. 0. 0. 0. 0. 0. 0. 0. 0. 0. 0. 0. 0. 0. 0. 0. 0. 0. 0. 0. 0.\n",
            " 0. 0. 0. 0. 0. 0. 0. 0. 0. 0. 0. 0. 0. 0. 0. 0. 0. 0. 0. 0. 0. 0. 0. 0.\n",
            " 0. 0. 0. 0. 0. 0. 0. 0. 0. 0. 0. 0. 0. 0. 0. 0. 0. 0. 0. 0. 0. 0. 0. 0.\n",
            " 0. 0. 0. 0. 0. 0. 0. 0. 0. 0. 0. 0. 0. 0. 0. 0. 0. 0. 0. 0. 0. 0. 0. 0.\n",
            " 0. 0. 0. 0. 0. 0. 0. 0. 0. 0. 0. 0. 0. 0. 0. 0. 0. 0. 0. 0. 0. 0. 0. 0.\n",
            " 0. 0. 0. 0. 0. 0. 0. 0. 0. 0. 0. 0. 0. 0. 0. 0. 0. 0. 0. 0. 0. 0. 0. 0.\n",
            " 0. 0. 0. 0.]\n"
          ]
        },
        {
          "output_type": "display_data",
          "data": {
            "text/plain": [
              "<Figure size 640x480 with 1 Axes>"
            ],
            "image/png": "[encoded data removed]"
          },
          "metadata": {}
        }
      ]
    },
    {
      "cell_type": "code",
      "source": [],
      "metadata": {
        "id": "TjRwGs_zHmU9"
      },
      "execution_count": null,
      "outputs": []
    }
  ]
}